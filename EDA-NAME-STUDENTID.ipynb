{
 "cells": [
  {
   "cell_type": "markdown",
   "id": "5e25ea09-74d6-47e6-bad6-e922f52c3532",
   "metadata": {},
   "source": [
    "<h1>\n",
    "    <center>\n",
    "        Title of your thesis\n",
    "    </center>\n",
    "</h1>\n",
    "<h2>\n",
    "    <center>\n",
    "        Subtitle of your thesis\n",
    "    </center>\n",
    "</h2>\n",
    "\n",
    "<h2>\n",
    "    <center>\n",
    "        <b>Your Name</b><br>\n",
    "        <b>Your Student ID</b><br>\n",
    "        <b><a href=\"mailto:youremail@student.uva.nl\">youremail@student.uva.nl</a></b><br>\n",
    "        <b>Submitted on: DD.MM.YYYY</b>Subtitle\n",
    "    </center>\n",
    "</h2>"
   ]
  },
  {
   "cell_type": "markdown",
   "id": "f7b8faeb-cb19-4d61-8242-3596397cf6e6",
   "metadata": {},
   "source": [
    "## Introduction\n",
    "Mention scientific field, problem statement, research gap and each research question."
   ]
  },
  {
   "cell_type": "markdown",
   "id": "a833d964-56e1-49c7-8172-7435357624aa",
   "metadata": {},
   "source": [
    "## Exploratory Data Analysis\n",
    "\n",
    "**The idea of this seciton (and in a wider sense of this document) is that you explore the data, get to categorize the type of data you have and possibly reflect on the implications of the distributions (assumptions, etc.).**\n",
    "\n",
    "As you can see, you are in a jupyter notebook environment here. This means that you should focus little on writing text and more on actually exploring your data. If you need to, you can use the amsmath environment in-line: $e=mc^2$ or also in separate equations such as here:\n",
    "\n",
    "$$\n",
    "\\begin{equation}\n",
    "    e=mc^2 \\mathrm{\\space where\\space} e,m,c\\in \\mathbb{R}\n",
    "\\end{equation}\n",
    "$$\n",
    "\n",
    "Furthermore, you can insert images such as your methodology or data aggregation diagrams like this:\n",
    "\n",
    "\n",
    "<div>\n",
    "    <center>\n",
    "        <img src=\"https://www.researchgate.net/profile/Bujar-Nushi/publication/48325914/figure/fig1/AS:306026525020160@1449973817102/Flow-chart-of-research-methodology.png\" width=\"500\"/>\n",
    "    </center>\n",
    "</div>"
   ]
  },
  {
   "cell_type": "code",
   "execution_count": null,
   "id": "534317db-d881-4e33-a358-754e2881e8bd",
   "metadata": {},
   "outputs": [],
   "source": [
    "# Imports\n",
    "import os\n",
    "import numpy as np\n",
    "import pandas as pd"
   ]
  },
  {
   "cell_type": "markdown",
   "id": "b582b299-f599-4140-a454-bcbfdeeb273f",
   "metadata": {},
   "source": [
    "### Data Loading"
   ]
  },
  {
   "cell_type": "code",
   "execution_count": null,
   "id": "9f0cf9be-2cac-4227-957f-ad893212e70c",
   "metadata": {},
   "outputs": [],
   "source": [
    "# Load your data here"
   ]
  },
  {
   "cell_type": "markdown",
   "id": "b4df9546-a6d7-4678-aca6-cd13d5f3c79a",
   "metadata": {},
   "source": [
    "### Analysis 1: \n",
    "Make sure to add some explanation of what you are doing in your code. This will help you and whoever will read this a lot in following your steps."
   ]
  },
  {
   "cell_type": "code",
   "execution_count": null,
   "id": "a889a6c7-aed8-4a0f-9925-c4f8e2fce1d5",
   "metadata": {},
   "outputs": [],
   "source": [
    "# Also don't forget to comment your code\n",
    "# This way it's also easier to spot thought errors along the way"
   ]
  },
  {
   "cell_type": "markdown",
   "id": "c2b796dc-f69d-4686-b802-bd0d8f679ee8",
   "metadata": {},
   "source": [
    "### Analysis 2: "
   ]
  },
  {
   "cell_type": "code",
   "execution_count": null,
   "id": "c33b453f-1bc2-4cad-8021-e548d307f154",
   "metadata": {},
   "outputs": [],
   "source": [
    "# ..."
   ]
  },
  {
   "cell_type": "markdown",
   "id": "f273bea3-ecaa-4fac-83d0-5fe547b7873d",
   "metadata": {},
   "source": [
    "### Analysis n:"
   ]
  },
  {
   "cell_type": "code",
   "execution_count": null,
   "id": "60074a1b-1ae5-46e8-971f-100199861c9c",
   "metadata": {},
   "outputs": [],
   "source": [
    "# ..."
   ]
  },
  {
   "cell_type": "markdown",
   "id": "fd902e96-a613-4113-80c9-6f0a81a7a7c8",
   "metadata": {},
   "source": [
    "## Conclusions\n",
    "Here you should add a few paragraphs on what you can conlcude about your data from the above experiments. It will allow you to have a summary of your data once you will work on it more and will also give others and your supervisors an idea of the data. Stay concise and focus more on numbers than on text."
   ]
  }
 ],
 "metadata": {
  "kernelspec": {
   "display_name": "Python 3",
   "language": "python",
   "name": "python3"
  },
  "language_info": {
   "codemirror_mode": {
    "name": "ipython",
    "version": 3
   },
   "file_extension": ".py",
   "mimetype": "text/x-python",
   "name": "python",
   "nbconvert_exporter": "python",
   "pygments_lexer": "ipython3",
   "version": "3.8.8"
  }
 },
 "nbformat": 4,
 "nbformat_minor": 5
}
